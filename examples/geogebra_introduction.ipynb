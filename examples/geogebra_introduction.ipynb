{
 "cells": [
  {
   "cell_type": "markdown",
   "metadata": {},
   "source": [
    "### Embedding GeoGebra files in IPython notebook"
   ]
  },
  {
   "cell_type": "markdown",
   "metadata": {},
   "source": [
    "The following notebook is inspired by [this ipython-asymptote notebook](http://nbviewer.ipython.org/github/azjps/ipython-asymptote/blob/master/examples/asymptote_magic_examples.ipynb)."
   ]
  },
  {
   "cell_type": "markdown",
   "metadata": {},
   "source": [
    "GeoGebra is an open source geometry software."
   ]
  },
  {
   "cell_type": "markdown",
   "metadata": {},
   "source": [
    "This page is a IPython notebook, which is essentially a python shell with a HTML-based UI backend. Instructions for downloading and installing the IPython notebook are located [here](http://ipython.org/install.html). Notebooks offer a large array of features, such as being able to run commands and display output for programming languages outside of python, and makes developing scripts incrementally and saving intermediate output very easy. Since we can execute arbitrary HTML and JavaScript code in an IPython notebook, we have the capability to embed GeoGebra applets!"
   ]
  },
  {
   "cell_type": "markdown",
   "metadata": {},
   "source": [
    "A given code cell can be run with the keys `<Shift>`+`<Enter>` or the $\\blacktriangleright$ button. Commands entered into a IPython cell starting with percent signs ('%') indicate to IPython to use a [IPython magic](http://nbviewer.ipython.org/github/ipython/ipython/blob/1.x/examples/notebooks/Cell%20Magics.ipynb). The GeoGebra IPython magic is a  IPython magic which can display Java and (eventually) HTML5 GeoGebra applets."
   ]
  },
  {
   "cell_type": "code",
   "execution_count": 2,
   "metadata": {
    "collapsed": false
   },
   "outputs": [],
   "source": [
    "%load_ext autoreload\n",
    "%autoreload 2"
   ]
  },
  {
   "cell_type": "code",
   "execution_count": 3,
   "metadata": {
    "collapsed": false
   },
   "outputs": [
    {
     "name": "stdout",
     "output_type": "stream",
     "text": [
      "Installed geogebra_magic.py. To use it, type:\n",
      "  %load_ext geogebra_magic\n"
     ]
    }
   ],
   "source": [
    "%install_ext ../pyggb/geogebra_magic.py"
   ]
  },
  {
   "cell_type": "code",
   "execution_count": 4,
   "metadata": {
    "collapsed": false
   },
   "outputs": [],
   "source": [
    "import sys; sys.path.append('../pyggb')"
   ]
  },
  {
   "cell_type": "code",
   "execution_count": 5,
   "metadata": {
    "collapsed": false
   },
   "outputs": [],
   "source": [
    "%reload_ext geogebra_magic"
   ]
  },
  {
   "cell_type": "code",
   "execution_count": 7,
   "metadata": {
    "collapsed": false
   },
   "outputs": [
    {
     "data": {
      "text/html": [
       "<applet archive=\"http://www.geogebra.org/webstart/4.2/geogebra.jar\" code=\"geogebra.GeoGebraApplet\" codebase=\"http://www.geogebra.org/webstart/4.2/unsigned/\" height=\"450\" id=\"ggb_applet_1\" width=\"650\">Sorry, the GeoGebra Applet could not be started.\n",
       "Please make sure that Java 1.4.2 (or later) is installed and activated.\n",
       "(&lt;a href=\"http://java.sun.com/getjava\"&gt;Click here to install Java now&lt;/a&gt;)<param name=\"showToolBar\" value=\"true\" />\n",
       "  <param name=\"showResetIcon\" value=\"true\" />\n",
       "  <param name=\"filename\" value=\"star.ggb\" />\n",
       "  <param name=\"java_arguments\" value=\"-Xmx512m -Djnlp.packEnabled=true\" />\n",
       "  <param name=\"image\" value=\"http://www.geogebra.org/webstart/loading.gif\" />\n",
       "</applet>\n"
      ],
      "text/plain": [
       "<IPython.core.display.HTML object>"
      ]
     },
     "execution_count": 7,
     "metadata": {},
     "output_type": "execute_result"
    }
   ],
   "source": [
    "%ggb --width 650 --height 450 --showToolBar 1 --showResetIcon 1 star.ggb"
   ]
  },
  {
   "cell_type": "raw",
   "metadata": {
    "collapsed": false
   },
   "source": []
  },
  {
   "cell_type": "code",
   "execution_count": 1,
   "metadata": {
    "collapsed": false
   },
   "outputs": [
    {
     "name": "stderr",
     "output_type": "stream",
     "text": [
      "ERROR: Line magic function `%ggb` not found.\n"
     ]
    }
   ],
   "source": [
    "%ggb --width 650 --height 450 noexist.ggb"
   ]
  },
  {
   "cell_type": "code",
   "execution_count": 8,
   "metadata": {
    "collapsed": false
   },
   "outputs": [],
   "source": [
    "from IPython.display import HTML, Javascript"
   ]
  },
  {
   "cell_type": "code",
   "execution_count": 11,
   "metadata": {
    "collapsed": false
   },
   "outputs": [
    {
     "data": {
      "application/javascript": [
       "\n",
       "document.getElementById(\"ggb_applet_2\").evalCommand(\"Circle[(0,0), 1]\")\n"
      ],
      "text/plain": [
       "<IPython.core.display.Javascript at 0x3975eb8>"
      ]
     },
     "execution_count": 11,
     "metadata": {},
     "output_type": "execute_result"
    }
   ],
   "source": [
    "Javascript(\"\"\"\n",
    "document.getElementById(\"ggb_applet_2\").evalCommand(\"Circle[(0,0), 1]\")\n",
    "\"\"\")"
   ]
  },
  {
   "cell_type": "code",
   "execution_count": 10,
   "metadata": {
    "collapsed": false
   },
   "outputs": [
    {
     "data": {
      "text/plain": [
       "'\\nfunction on_applet_load() {\\n  document.getElementById(\"ggb_applet2\").evalCommand(\"Circle[(0,0),1]\");\\n}\\nconsole.log(document.getElementById(\"ggb_applet2\").status)\\ndocument.getElementById(\"ggb_applet2\").onLoad(on_applet_load)\\n'"
      ]
     },
     "execution_count": 10,
     "metadata": {},
     "output_type": "execute_result"
    }
   ],
   "source": [
    "\"\"\"\n",
    "function on_applet_load() {\n",
    "  document.getElementById(\"ggb_applet_2\").evalCommand(\"Circle[(0,0),1]\");\n",
    "}\n",
    "console.log(document.getElementById(\"ggb_applet_2\").status)\n",
    "document.getElementById(\"ggb_applet_2\").onLoad(on_applet_load)\n",
    "\"\"\""
   ]
  },
  {
   "cell_type": "code",
   "execution_count": 10,
   "metadata": {
    "collapsed": false
   },
   "outputs": [],
   "source": []
  }
 ],
 "metadata": {
  "kernelspec": {
   "display_name": "Python 2",
   "language": "python",
   "name": "python2"
  },
  "language_info": {
   "codemirror_mode": {
    "name": "ipython",
    "version": 2
   },
   "file_extension": ".py",
   "mimetype": "text/x-python",
   "name": "python",
   "nbconvert_exporter": "python",
   "pygments_lexer": "ipython2",
   "version": "2.7.6"
  }
 },
 "nbformat": 4,
 "nbformat_minor": 0
}
