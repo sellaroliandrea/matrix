{
 "cells": [
  {
   "cell_type": "markdown",
   "metadata": {},
   "source": [
    "# Algebra lineare: matrici"
   ]
  },
  {
   "cell_type": "markdown",
   "metadata": {},
   "source": [
    "In matematica, una matrice è uno schieramento rettangolare di oggetti.\n",
    "\n",
    "Sulle matrici sono definite alcune operazioni e le matrici vengono usate in diversi campi della matematica.\n",
    "\n",
    "In questo lavoro vedremo come realizzare delle matrici in Python. \n",
    "Prima di immergerci nel nostro lavoro, esploriamo alcuni elementi \n",
    "di Python che saranno utili strumenti con i quali realizzare le matrici. "
   ]
  },
  {
   "cell_type": "markdown",
   "metadata": {},
   "source": [
    "## Python"
   ]
  },
  {
   "cell_type": "markdown",
   "metadata": {},
   "source": [
    "### Liste"
   ]
  },
  {
   "cell_type": "markdown",
   "metadata": {},
   "source": [
    "Python non ha un oggetto che corrisponda esattamente ad una matrice o ad un array a due dimensioni. Lo si può emulare con una lista di liste.\n",
    "Una lista è una sequenza ordinata di oggetti, la si può creare ponendo tra parentesi quadre gli oggetti della lista separati da virgole:"
   ]
  },
  {
   "cell_type": "code",
   "execution_count": 1,
   "metadata": {
    "collapsed": false
   },
   "outputs": [],
   "source": [
    "lista01 = ['pippo', 4, 5.7, ['lista', 'di', 'parole']]"
   ]
  },
  {
   "cell_type": "markdown",
   "metadata": {},
   "source": [
    "All'identificatore `lista01` è associata una lista che contiene quattro elementi:\n",
    "\n",
    "0. una stringa;\n",
    "1. un numero intero;\n",
    "2. un numero in virgola mobile;\n",
    "3. una lista di stringhe."
   ]
  },
  {
   "cell_type": "markdown",
   "metadata": {},
   "source": [
    "Le liste sono indicizzabili, teniamo presente che l'indice del primo elemento di una lista è sempre il numero zero."
   ]
  },
  {
   "cell_type": "code",
   "execution_count": 2,
   "metadata": {
    "collapsed": false
   },
   "outputs": [
    {
     "name": "stdout",
     "output_type": "stream",
     "text": [
      "pippo\n",
      "4\n",
      "5.7\n",
      "['lista', 'di', 'parole']\n",
      "lista\n",
      "di\n",
      "parole\n"
     ]
    }
   ],
   "source": [
    "print(lista01[0])\n",
    "print(lista01[1])\n",
    "print(lista01[2])\n",
    "print(lista01[3])\n",
    "print(lista01[3][0])\n",
    "print(lista01[3][1])\n",
    "print(lista01[3][2])"
   ]
  },
  {
   "cell_type": "markdown",
   "metadata": {},
   "source": [
    "Per creare liste numeriche è utile la funzione `range` che restituisce, uno alla volta i numeri naturali:"
   ]
  },
  {
   "cell_type": "code",
   "execution_count": 3,
   "metadata": {
    "collapsed": false
   },
   "outputs": [
    {
     "name": "stdout",
     "output_type": "stream",
     "text": [
      "0\n",
      "1\n",
      "2\n",
      "3\n",
      "4\n"
     ]
    }
   ],
   "source": [
    "for elemento in range(5):\n",
    "    print(elemento)"
   ]
  },
  {
   "cell_type": "markdown",
   "metadata": {},
   "source": [
    "Le liste si possono creare ultilizzando una sintassi molto sintetica detta \"listcompreension\". Ad esempio se volessi una lista che contiene tutti i numeri naturali minori di 5 potrei scrivere:"
   ]
  },
  {
   "cell_type": "code",
   "execution_count": 6,
   "metadata": {
    "collapsed": false
   },
   "outputs": [
    {
     "data": {
      "text/plain": [
       "[0, 1, 2, 3, 4]"
      ]
     },
     "execution_count": 6,
     "metadata": {},
     "output_type": "execute_result"
    }
   ],
   "source": [
    "[elemento for elemento in range(5)]"
   ]
  },
  {
   "cell_type": "markdown",
   "metadata": {},
   "source": [
    "Se volessi una lista con i quadrati dei primi dieci naturali:"
   ]
  },
  {
   "cell_type": "code",
   "execution_count": 7,
   "metadata": {
    "collapsed": false
   },
   "outputs": [
    {
     "data": {
      "text/plain": [
       "[0, 1, 4, 9, 16]"
      ]
     },
     "execution_count": 7,
     "metadata": {},
     "output_type": "execute_result"
    }
   ],
   "source": [
    "[elemento**2 for elemento in range(5)]"
   ]
  },
  {
   "cell_type": "markdown",
   "metadata": {},
   "source": [
    "E se volessi una lista con i primi cinque naturali, i loro quadrati e i loro cubi:"
   ]
  },
  {
   "cell_type": "code",
   "execution_count": 9,
   "metadata": {
    "collapsed": false
   },
   "outputs": [
    {
     "data": {
      "text/plain": [
       "[[0, 0, 0], [1, 1, 1], [2, 4, 8], [3, 9, 27], [4, 16, 64]]"
      ]
     },
     "execution_count": 9,
     "metadata": {},
     "output_type": "execute_result"
    }
   ],
   "source": [
    "[[elemento, elemento**2, elemento**3] for elemento in range(5)]"
   ]
  },
  {
   "cell_type": "markdown",
   "metadata": {},
   "source": [
    "Possiamo anche creare una lista di numeri interi casuali, per fare questo dobbiamo però caricare una particolare funzione dalla libreria \"random\":"
   ]
  },
  {
   "cell_type": "code",
   "execution_count": 5,
   "metadata": {
    "collapsed": false
   },
   "outputs": [
    {
     "name": "stdout",
     "output_type": "stream",
     "text": [
      "[0, 4, 3, 2, 9, 6, 9, 5, 9, 0, 5, 6, 2, 8, 4, 7, 7, 7, 2, 2]\n"
     ]
    }
   ],
   "source": [
    "import random\n",
    "lista05 = [random.randrange(10) for _ in range(20)]\n",
    "print(lista05)"
   ]
  },
  {
   "cell_type": "markdown",
   "metadata": {},
   "source": [
    "Una lista di stringhe può essere trasformata in una stringa concatenando tutti i suoi elementi:"
   ]
  },
  {
   "cell_type": "code",
   "execution_count": 11,
   "metadata": {
    "collapsed": false
   },
   "outputs": [
    {
     "data": {
      "text/plain": [
       "'Et telefono casa'"
      ]
     },
     "execution_count": 11,
     "metadata": {},
     "output_type": "execute_result"
    }
   ],
   "source": [
    "lista06 = ['Et', 'telefono', 'casa']\n",
    "' '.join(lista06)"
   ]
  },
  {
   "cell_type": "markdown",
   "metadata": {},
   "source": [
    "Per eseguire le operazioni tra matrici, avremo bisogno anche di accoppiare elementi tratti da due liste diverse. L'iteratore \"zip\" fa esattamente questo. Se vogliamo ottenere una lista con le somme dei numeri contenuti in due altre liste, possiamo utilizzare la listcompreension con l'iteratore zip:"
   ]
  },
  {
   "cell_type": "code",
   "execution_count": 12,
   "metadata": {
    "collapsed": false
   },
   "outputs": [
    {
     "name": "stdout",
     "output_type": "stream",
     "text": [
      "[25, 34, 20, 13, 36, 24, 44, 31, 40, 30]\n",
      "[47, 25, 46, 29, 15, 41, 16, 49, 43, 22]\n",
      "[72, 59, 66, 42, 51, 65, 60, 80, 83, 52]\n"
     ]
    }
   ],
   "source": [
    "lista07 = [random.randrange(10, 50) for _ in range(10)]\n",
    "lista08 = [random.randrange(10, 50) for _ in range(10)]\n",
    "somma = [a + b for a, b in zip(lista07, lista08)]\n",
    "print(lista07)\n",
    "print(lista08)\n",
    "print(somma)"
   ]
  },
  {
   "cell_type": "markdown",
   "metadata": {},
   "source": [
    "Ora che abbiamo preso un po' di confidenza con le lista Python, possiamo emulare la matrice usando una lista di sottoliste dove ogni sottolista rappresenta una riga della matrice:"
   ]
  },
  {
   "cell_type": "code",
   "execution_count": 6,
   "metadata": {
    "collapsed": false
   },
   "outputs": [
    {
     "name": "stdout",
     "output_type": "stream",
     "text": [
      "[[1, 4, 6], [2, 3, 7]]\n",
      "[[0, 7, 6], [8, 0, 0]]\n",
      "[[7, 2, 6], [2, 4, 9]]\n"
     ]
    }
   ],
   "source": [
    "matr01 = [[1, 4, 6], [2, 3, 7]]\n",
    "print(matr01)\n",
    "matr02 = [[random.randrange(10) for _ in range(3)], [random.randrange(10) for _ in range(3)]]\n",
    "print(matr02)\n",
    "matr02 = [[random.randrange(10) for _ in range(3)] for _ in range(2)]\n",
    "print(matr02)"
   ]
  },
  {
   "cell_type": "markdown",
   "metadata": {},
   "source": [
    "Tenendo presente che in Python gli indici iniziano sempre da zero, si uò estrarre o modificare un elemento della matrice utilizzando gli indici. Ad esempio per estrarre il numero 7 dalla matrice precedente bisogna prendere dalla riga numero uno l'elemento numero due."
   ]
  },
  {
   "cell_type": "code",
   "execution_count": 7,
   "metadata": {
    "collapsed": false
   },
   "outputs": [
    {
     "data": {
      "text/plain": [
       "7"
      ]
     },
     "execution_count": 7,
     "metadata": {},
     "output_type": "execute_result"
    }
   ],
   "source": [
    "matr01[1][2]"
   ]
  },
  {
   "cell_type": "markdown",
   "metadata": {},
   "source": [
    "Allo stesso modo, cioè sempre usando gli indici è anche possibile cambiare un elemento di una  matrice:"
   ]
  },
  {
   "cell_type": "code",
   "execution_count": 15,
   "metadata": {
    "collapsed": false
   },
   "outputs": [
    {
     "name": "stdout",
     "output_type": "stream",
     "text": [
      "[[1, 4, 6], [2, 3, 9]]\n"
     ]
    }
   ],
   "source": [
    "matr01[1][2] = 9\n",
    "print(matr01)"
   ]
  },
  {
   "cell_type": "markdown",
   "metadata": {},
   "source": [
    "In Python possiamo realizzare delle matrici usando liste di liste, ma le matrici matematiche che vogliamo utilizzare devono avere qualcosa di più: con le nostre matrici vogliamo anche poter eseguire alcune operazioni. Vogliamo poter confrontarle, addizionarle, moltiplicarle, ..."
   ]
  },
  {
   "cell_type": "code",
   "execution_count": 8,
   "metadata": {
    "collapsed": false
   },
   "outputs": [
    {
     "name": "stdout",
     "output_type": "stream",
     "text": [
      "[[1, 4, 6], [2, 3, 9]]\n",
      "False\n",
      "[[1, 4, 6], [2, 3, 7], [1, 4, 6], [2, 3, 9]]\n"
     ]
    }
   ],
   "source": [
    "matr03 = [[1, 4, 6], [2, 3, 9]]\n",
    "print(matr03)\n",
    "print(matr01 == matr03)\n",
    "print(matr01 + matr03)"
   ]
  },
  {
   "cell_type": "markdown",
   "metadata": {},
   "source": [
    "Il confronto funziona, ma la somma non ci va bene: estende la matrice invece che addizionare gli elementi.\n",
    "Dobbiamo quindi creare noi un nuovo oggetto ch si comporti come una matrice."
   ]
  },
  {
   "cell_type": "markdown",
   "metadata": {},
   "source": [
    "### Funzioni"
   ]
  },
  {
   "cell_type": "markdown",
   "metadata": {},
   "source": [
    "Prima di creare una matrice creiamo alcune funzioni che ci saranno utili:\n",
    "* una funzione che crea una matrice zero;\n",
    "* una funzione che crea una matrice, di date dimensioni, composta da numeri casuali;\n",
    "* una funzione che sommi due vettori;\n",
    "* una funzione che calcoli il prodotto scalare di due vettori.\n",
    "\n",
    "Scriviamo le seguenti funzioni e controlliamo che i risultati forniti siano corretti."
   ]
  },
  {
   "cell_type": "code",
   "execution_count": 18,
   "metadata": {
    "collapsed": false
   },
   "outputs": [
    {
     "name": "stdout",
     "output_type": "stream",
     "text": [
      "None\n",
      "None\n",
      "None\n",
      "None\n"
     ]
    }
   ],
   "source": [
    "def matr_zero(rows, cols):\n",
    "    \"\"\"Return a bidimensional matrix of zeros.\"\"\"\n",
    "    pass\n",
    "    \n",
    "def matr_random(rows, cols, mi, ma):\n",
    "    \"\"\"Return a bidimensional matrix of random integers.\"\"\"\n",
    "    pass\n",
    "\n",
    "def vect_add(matr1, matr2):\n",
    "    \"\"\"Return vectors sum.\"\"\"\n",
    "    pass\n",
    "\n",
    "def vect_scalar_product(matr1, matr2):\n",
    "    \"\"\"Return vectors scalar product.\"\"\"\n",
    "    pass\n",
    "\n",
    "print(matr_zero(4, 5))\n",
    "print(matr_random(4, 5, 10, 10))\n",
    "print(vect_add([3, 4, 5], [4, 3, 2]))\n",
    "print(vect_scalar_product([3, 4, 5], [4, 3, 2]))"
   ]
  },
  {
   "cell_type": "markdown",
   "metadata": {},
   "source": [
    "Dopo aver scritto le funzioni e averne controllato la correttezza,\n",
    "siamo ora in grado di creare il nuovo tipo `Matrix`. \n",
    "Matrix è il nome associato alla classe che vogliamo realizzare"
   ]
  },
  {
   "cell_type": "markdown",
   "metadata": {},
   "source": [
    "### Classi"
   ]
  },
  {
   "cell_type": "markdown",
   "metadata": {},
   "source": [
    "In Python è possibile definire un nuovo tipo di dati con tutti i suoi comportamenti, lo si fa definendo una nuova classe:"
   ]
  },
  {
   "cell_type": "code",
   "execution_count": 19,
   "metadata": {
    "collapsed": false
   },
   "outputs": [],
   "source": [
    "class Matrix():\n",
    "    \"\"\"Classe che implementa le matrici.\"\"\""
   ]
  },
  {
   "cell_type": "markdown",
   "metadata": {},
   "source": [
    "È possibile realizzare un oggetto matrice con il seguente comando:"
   ]
  },
  {
   "cell_type": "code",
   "execution_count": 20,
   "metadata": {
    "collapsed": false
   },
   "outputs": [
    {
     "name": "stdout",
     "output_type": "stream",
     "text": [
      "<__main__.Matrix object at 0x7f439413ec50>\n"
     ]
    }
   ],
   "source": [
    "matr02 = Matrix()\n",
    "print(matr02)"
   ]
  },
  {
   "cell_type": "markdown",
   "metadata": {},
   "source": [
    "L'oggetto `matr02` viene creato, è di tipo matrice, \n",
    "ma questo oggetto non ha molte proprietà, \n",
    "anzi non ne abbiamo definite per niente.\n",
    "\n",
    "Per dare delle proprietà alla nostra classe dobbiamo definire \n",
    "**attributi** che sono variabili legate all'oggetto e \n",
    "**metodi** che sono funzioni legate alla classe.\n",
    "\n",
    "Aggiungiamo un attributo che contenga la *matrice-lista*, \n",
    "un attributo per il numero di *righe* e \n",
    "uno per il numero di *colonne* della matrice.\n",
    "\n",
    "La classe `Matrix` avrà un primo metodo `__init__` che viene eseguito \n",
    "quando viene costruito l'oggetto. Questo metodo ha due parametri:\n",
    "* `self` è un riferimento all'oggetto;\n",
    "* `matr` contiene la matrice sotto forma di lista.\n",
    "\n",
    "Il metodo `__init__` lega all'attributo `matr`\n",
    "dell'oggetto che si sta creando, la lista `matr` \n",
    "passata come argomento e agli attributi `rows` e `cols`\n",
    "rispettivamente il numero di righe e di colonne della matrice."
   ]
  },
  {
   "cell_type": "code",
   "execution_count": 21,
   "metadata": {
    "collapsed": false
   },
   "outputs": [
    {
     "name": "stdout",
     "output_type": "stream",
     "text": [
      "righe: 4 colonne: 2\n"
     ]
    }
   ],
   "source": [
    "class Matrix():\n",
    "    \"\"\"Matrix class.\"\"\"\n",
    "    def __init__(self, matr):      # Metodo che inizializza l'oggetto.\n",
    "        self.matr = matr           # Attributo che contiene la matrice.\n",
    "        self.rows = len(matr)      # numero di righe\n",
    "        self.cols = len(matr[0])   # numero di colonne\n",
    "        \n",
    "matr02 = Matrix([[1, 2], [2, 3], [3, 4], [4, 5]])\n",
    "print('righe:', matr02.rows, 'colonne:', matr02.cols)"
   ]
  },
  {
   "cell_type": "markdown",
   "metadata": {},
   "source": [
    "Aggiungiamo anche un metodo che trasformi la matrice in una stringa \n",
    "separando gli elementi di ogni riga con un tabulatore e \n",
    "le righe con un acapo."
   ]
  },
  {
   "cell_type": "code",
   "execution_count": 22,
   "metadata": {
    "collapsed": false
   },
   "outputs": [
    {
     "name": "stdout",
     "output_type": "stream",
     "text": [
      "1\t2\n",
      "2\t3\n",
      "3\t4\n",
      "4\t5\n"
     ]
    }
   ],
   "source": [
    "class Matrix():\n",
    "    \"\"\"Matrix class.\"\"\"\n",
    "    def __init__(self, matr):      # Metodo che inizializza l'oggetto.\n",
    "        self.matr = matr           # Attributo che contiene la matrice.\n",
    "        self.rows = len(matr)      # numero di righe\n",
    "        self.cols = len(matr[0])   # numero di colonne\n",
    "        \n",
    "    def __str__(self):\n",
    "        \"\"\"Matrix to string.\"\"\"\n",
    "        return \"\\n\".join([\"\\t\".join(map(str, r)) for r in self.matr])\n",
    "\n",
    "m_0 = Matrix([[1, 2], [2, 3], [3, 4], [4, 5]])\n",
    "print(m_0)"
   ]
  },
  {
   "cell_type": "markdown",
   "metadata": {},
   "source": [
    "Possiamo ora indicare a Python come sommare due oggetti Matrice. Il programma diventa:"
   ]
  },
  {
   "cell_type": "code",
   "execution_count": 23,
   "metadata": {
    "collapsed": false
   },
   "outputs": [
    {
     "name": "stdout",
     "output_type": "stream",
     "text": [
      "3\t5\t7\n",
      "4\t7\t9\n"
     ]
    }
   ],
   "source": [
    "def vect_add(v0, v1):\n",
    "    \"\"\"Return vectors sum.\"\"\"\n",
    "    return [a+b for a, b in zip(v0, v1)]\n",
    "\n",
    "class Matrix():\n",
    "    \"\"\"Matrix class.\"\"\"\n",
    "    def __init__(self, matr):      # Metodo che inizializza l'oggetto.\n",
    "        self.matr = matr           # Attributo che contiene la matrice.\n",
    "        self.rows = len(matr)      # numero di righe\n",
    "        self.cols = len(matr[0])   # numero di colonne\n",
    "        \n",
    "    def __str__(self):\n",
    "        \"\"\"Matrix to string.\"\"\"\n",
    "        return \"\\n\".join([\"\\t\".join(map(str, r)) for r in self.matr])\n",
    "    \n",
    "    def __add__(self, other):\n",
    "        \"\"\"Matrix sum.\"\"\"\n",
    "        return Matrix([vect_add(a, b) for a, b in zip(self.matr, other.matr)])\n",
    "\n",
    "m_a = Matrix([[2, 3, 4], [0, 2, 3]])\n",
    "m_b = Matrix([[1, 2, 3], [4, 5, 6]])\n",
    "print(m_a + m_b)"
   ]
  },
  {
   "cell_type": "markdown",
   "metadata": {},
   "source": [
    "E se le matrici che vogliamo addizionare non hanno le stesse dimensioni?"
   ]
  },
  {
   "cell_type": "code",
   "execution_count": 25,
   "metadata": {
    "collapsed": false
   },
   "outputs": [
    {
     "name": "stdout",
     "output_type": "stream",
     "text": [
      "3\t5\t7\n",
      "4\t7\t9\n"
     ]
    }
   ],
   "source": [
    "m_a = Matrix([[2, 3, 4, 6], [0, 2, 3, 4]])\n",
    "m_b = Matrix([[1, 2, 3], [4, 5, 6]])\n",
    "print(m_a + m_b)"
   ]
  },
  {
   "cell_type": "markdown",
   "metadata": {},
   "source": [
    " Il risultato che otteniamo è sbagliato, \n",
    " bisogna controllare le dimensioni, \n",
    " eseguire l'addizione se è possibile farlo, altrimenti\n",
    " sollevare un'eccezione."
   ]
  },
  {
   "cell_type": "code",
   "execution_count": 26,
   "metadata": {
    "collapsed": false
   },
   "outputs": [
    {
     "name": "stdout",
     "output_type": "stream",
     "text": [
      "3\t5\t7\n",
      "4\t7\t9\n"
     ]
    },
    {
     "ename": "Exception",
     "evalue": "Matrixes can't be added.",
     "output_type": "error",
     "traceback": [
      "\u001b[0;31m---------------------------------------------------------------------------\u001b[0m\n\u001b[0;31mException\u001b[0m                                 Traceback (most recent call last)",
      "\u001b[0;32m<ipython-input-26-a9bfb03fd2ce>\u001b[0m in \u001b[0;36m<module>\u001b[0;34m()\u001b[0m\n\u001b[1;32m     27\u001b[0m \u001b[0mm_a\u001b[0m \u001b[0;34m=\u001b[0m \u001b[0mMatrix\u001b[0m\u001b[0;34m(\u001b[0m\u001b[0;34m[\u001b[0m\u001b[0;34m[\u001b[0m\u001b[0;36m2\u001b[0m\u001b[0;34m,\u001b[0m \u001b[0;36m3\u001b[0m\u001b[0;34m,\u001b[0m \u001b[0;36m4\u001b[0m\u001b[0;34m,\u001b[0m \u001b[0;36m6\u001b[0m\u001b[0;34m]\u001b[0m\u001b[0;34m,\u001b[0m \u001b[0;34m[\u001b[0m\u001b[0;36m0\u001b[0m\u001b[0;34m,\u001b[0m \u001b[0;36m2\u001b[0m\u001b[0;34m,\u001b[0m \u001b[0;36m3\u001b[0m\u001b[0;34m,\u001b[0m \u001b[0;36m4\u001b[0m\u001b[0;34m]\u001b[0m\u001b[0;34m]\u001b[0m\u001b[0;34m)\u001b[0m\u001b[0;34m\u001b[0m\u001b[0m\n\u001b[1;32m     28\u001b[0m \u001b[0mm_b\u001b[0m \u001b[0;34m=\u001b[0m \u001b[0mMatrix\u001b[0m\u001b[0;34m(\u001b[0m\u001b[0;34m[\u001b[0m\u001b[0;34m[\u001b[0m\u001b[0;36m1\u001b[0m\u001b[0;34m,\u001b[0m \u001b[0;36m2\u001b[0m\u001b[0;34m,\u001b[0m \u001b[0;36m3\u001b[0m\u001b[0;34m]\u001b[0m\u001b[0;34m,\u001b[0m \u001b[0;34m[\u001b[0m\u001b[0;36m4\u001b[0m\u001b[0;34m,\u001b[0m \u001b[0;36m5\u001b[0m\u001b[0;34m,\u001b[0m \u001b[0;36m6\u001b[0m\u001b[0;34m]\u001b[0m\u001b[0;34m]\u001b[0m\u001b[0;34m)\u001b[0m\u001b[0;34m\u001b[0m\u001b[0m\n\u001b[0;32m---> 29\u001b[0;31m \u001b[0mprint\u001b[0m\u001b[0;34m(\u001b[0m\u001b[0mm_a\u001b[0m \u001b[0;34m+\u001b[0m \u001b[0mm_b\u001b[0m\u001b[0;34m)\u001b[0m\u001b[0;34m\u001b[0m\u001b[0m\n\u001b[0m",
      "\u001b[0;32m<ipython-input-26-a9bfb03fd2ce>\u001b[0m in \u001b[0;36m__add__\u001b[0;34m(self, other)\u001b[0m\n\u001b[1;32m     19\u001b[0m             \u001b[0;32mreturn\u001b[0m \u001b[0mMatrix\u001b[0m\u001b[0;34m(\u001b[0m\u001b[0;34m[\u001b[0m\u001b[0mvect_add\u001b[0m\u001b[0;34m(\u001b[0m\u001b[0ma\u001b[0m\u001b[0;34m,\u001b[0m \u001b[0mb\u001b[0m\u001b[0;34m)\u001b[0m \u001b[0;32mfor\u001b[0m \u001b[0ma\u001b[0m\u001b[0;34m,\u001b[0m \u001b[0mb\u001b[0m \u001b[0;32min\u001b[0m \u001b[0mzip\u001b[0m\u001b[0;34m(\u001b[0m\u001b[0mself\u001b[0m\u001b[0;34m.\u001b[0m\u001b[0mmatr\u001b[0m\u001b[0;34m,\u001b[0m \u001b[0mother\u001b[0m\u001b[0;34m.\u001b[0m\u001b[0mmatr\u001b[0m\u001b[0;34m)\u001b[0m\u001b[0;34m]\u001b[0m\u001b[0;34m)\u001b[0m\u001b[0;34m\u001b[0m\u001b[0m\n\u001b[1;32m     20\u001b[0m         \u001b[0;32melse\u001b[0m\u001b[0;34m:\u001b[0m           \u001b[0;31m# raises an exception if the matrixes are not the same size.\u001b[0m\u001b[0;34m\u001b[0m\u001b[0m\n\u001b[0;32m---> 21\u001b[0;31m             \u001b[0;32mraise\u001b[0m \u001b[0mException\u001b[0m\u001b[0;34m(\u001b[0m\u001b[0;34m\"Matrixes can't be added.\"\u001b[0m\u001b[0;34m)\u001b[0m\u001b[0;34m\u001b[0m\u001b[0m\n\u001b[0m\u001b[1;32m     22\u001b[0m \u001b[0;34m\u001b[0m\u001b[0m\n\u001b[1;32m     23\u001b[0m \u001b[0mm_a\u001b[0m \u001b[0;34m=\u001b[0m \u001b[0mMatrix\u001b[0m\u001b[0;34m(\u001b[0m\u001b[0;34m[\u001b[0m\u001b[0;34m[\u001b[0m\u001b[0;36m2\u001b[0m\u001b[0;34m,\u001b[0m \u001b[0;36m3\u001b[0m\u001b[0;34m,\u001b[0m \u001b[0;36m4\u001b[0m\u001b[0;34m]\u001b[0m\u001b[0;34m,\u001b[0m \u001b[0;34m[\u001b[0m\u001b[0;36m0\u001b[0m\u001b[0;34m,\u001b[0m \u001b[0;36m2\u001b[0m\u001b[0;34m,\u001b[0m \u001b[0;36m3\u001b[0m\u001b[0;34m]\u001b[0m\u001b[0;34m]\u001b[0m\u001b[0;34m)\u001b[0m\u001b[0;34m\u001b[0m\u001b[0m\n",
      "\u001b[0;31mException\u001b[0m: Matrixes can't be added."
     ]
    }
   ],
   "source": [
    "def vect_add(v0, v1):\n",
    "    \"\"\"Return vectors sum.\"\"\"\n",
    "    return [a+b for a, b in zip(v0, v1)]\n",
    "\n",
    "class Matrix():\n",
    "    \"\"\"Matrix class.\"\"\"\n",
    "    def __init__(self, matr):      # Metodo che inizializza l'oggetto.\n",
    "        self.matr = matr           # Attributo che contiene la matrice.\n",
    "        self.rows = len(matr)      # numero di righe\n",
    "        self.cols = len(matr[0])   # numero di colonne\n",
    "        \n",
    "    def __str__(self):\n",
    "        \"\"\"Matrix to string.\"\"\"\n",
    "        return \"\\n\".join([\"\\t\".join(map(str, r)) for r in self.matr])\n",
    "    \n",
    "    def __add__(self, other):\n",
    "        \"\"\"Matrix sum.\"\"\"\n",
    "        if self.rows == other.rows and self.cols == other.cols:\n",
    "            return Matrix([vect_add(a, b) for a, b in zip(self.matr, other.matr)])\n",
    "        else:           # raises an exception if the matrixes are not the same size.\n",
    "            raise Exception(\"Matrixes can't be added.\")\n",
    "\n",
    "m_a = Matrix([[2, 3, 4], [0, 2, 3]])\n",
    "m_b = Matrix([[1, 2, 3], [4, 5, 6]])\n",
    "print(m_a + m_b)\n",
    "\n",
    "m_a = Matrix([[2, 3, 4, 6], [0, 2, 3, 4]])\n",
    "m_b = Matrix([[1, 2, 3], [4, 5, 6]])\n",
    "print(m_a + m_b)"
   ]
  },
  {
   "cell_type": "markdown",
   "metadata": {},
   "source": [
    "Giustamente la seconda operazione prduce un errore.\n",
    "\n",
    "Ora abbiamo tutti (quasi) gli elementi per scrivere una libreria\n",
    "che supporti il calcolo con le matrici."
   ]
  },
  {
   "cell_type": "markdown",
   "metadata": {},
   "source": [
    "## Libreria per il calcolo con le matrici"
   ]
  },
  {
   "cell_type": "markdown",
   "metadata": {},
   "source": [
    "Capiti i concetti di base, possiamo scrivere una libreria che implementi il calcolo con le matrici.\n",
    "\n",
    "Partiamo da un file vuoto e impostiamo il lavoro. Lo salviamo con il nome \"matrix.py\", scriviamo una breve intestazione con qualche informazione esseziale: data, titolo, autore, licenza, ...\n",
    "\n",
    "Scriviamo un breve testo che illustri lo scopo della libreria.\n",
    "\n",
    "E importiamo qualche libreria che ci tornerà utile."
   ]
  },
  {
   "cell_type": "code",
   "execution_count": 17,
   "metadata": {
    "collapsed": false
   },
   "outputs": [],
   "source": [
    "# 30 marzo 2015\n",
    "# Daniele\n",
    "# Matrici\n",
    "# GPL 3\n",
    "\n",
    "\"\"\"\n",
    "class Matrix with operations.\n",
    "\"\"\"\n",
    "\n",
    "from __future__ import division, print_function   # for compatibility with 2.x\n",
    "import random"
   ]
  },
  {
   "cell_type": "markdown",
   "metadata": {},
   "source": [
    "Ora definiamo le funzioni di supporto e il programma principale. Dato che quella che vogliamo scrivere è una libreria che verrà chiamata da altri programmi, il programma principale potrebbe anche essere vuoto, costituito dalla sola istruzione `pass` o mancare del tutto. Ma noi vogliamo scrive un programma seguendo un metodo ben preciso quindi nel programma principale carichiamo una  libreria e ne avviamo una funzione."
   ]
  },
  {
   "cell_type": "code",
   "execution_count": 2,
   "metadata": {
    "collapsed": false
   },
   "outputs": [
    {
     "name": "stdout",
     "output_type": "stream",
     "text": [
      "2 items had no tests:\n",
      "    __main__\n",
      "    __main__.matr_zero\n",
      "0 tests in 2 items.\n",
      "0 passed and 0 failed.\n",
      "Test passed.\n"
     ]
    }
   ],
   "source": [
    "def matr_zero(rows, cols):\n",
    "    \"\"\"Return a bidimensional matrix of zeros.\"\"\"\n",
    "    return [[0 for i in range(cols)] for r in range(rows)]\n",
    "\n",
    "if __name__=='__main__':\n",
    "    import doctest\n",
    "    doctest.testmod(verbose=True)\n"
   ]
  },
  {
   "cell_type": "markdown",
   "metadata": {},
   "source": [
    "### Test Driven Development"
   ]
  },
  {
   "cell_type": "markdown",
   "metadata": {},
   "source": [
    "Il TDD è lo sviluppo del software guidato dai test. \n",
    "L'idea di fondo è che prima di scrivere ogni singola funzione del programma, \n",
    "definisco il test che quella funzione dovrà passare.\n",
    "\n",
    "Nel caso della funzione `matr_zero`, \n",
    "noi vogliamo poter creare una lista di liste che contengono tutti zeri e \n",
    "vogliamo poterla stampare. Queste condizioni che la funzione deve soddisfare\n",
    "le inseriamo nella stringa di documentazione della funzione \n",
    "con anche il risultato atteso."
   ]
  },
  {
   "cell_type": "code",
   "execution_count": 3,
   "metadata": {
    "collapsed": false
   },
   "outputs": [
    {
     "name": "stdout",
     "output_type": "stream",
     "text": [
      "Trying:\n",
      "    m_0 = matr_zero(3, 4)\n",
      "Expecting nothing\n",
      "ok\n",
      "Trying:\n",
      "    print(m_0)\n",
      "Expecting:\n",
      "    [[0, 0, 0, 0], [0, 0, 0, 0], [0, 0, 0, 0]]\n",
      "ok\n",
      "1 items had no tests:\n",
      "    __main__\n",
      "1 items passed all tests:\n",
      "   2 tests in __main__.matr_zero\n",
      "2 tests in 2 items.\n",
      "2 passed and 0 failed.\n",
      "Test passed.\n"
     ]
    }
   ],
   "source": [
    "def matr_zero(rows, cols):\n",
    "    \"\"\"Return a bidimensional matrix of zeros.\n",
    ">>> m_0 = matr_zero(3, 4)\n",
    ">>> print(m_0)\n",
    "[[0, 0, 0, 0], [0, 0, 0, 0], [0, 0, 0, 0]]\n",
    "    \"\"\"\n",
    "    return [[0 for i in range(cols)] for r in range(rows)]\n",
    "\n",
    "if __name__=='__main__':\n",
    "    import doctest\n",
    "    doctest.testmod(verbose=True)"
   ]
  },
  {
   "cell_type": "markdown",
   "metadata": {},
   "source": [
    "Possiamo osservare che sono stati eseguiti due test, \n",
    "uno per ogni istruzione che inizia con `>>>` e che non hanno dato errori."
   ]
  },
  {
   "cell_type": "markdown",
   "metadata": {},
   "source": [
    "Vediamo che `doctest` ci dice quali test sono passati \n",
    "e quali sono falliti, ma sebbene questo generalmente \n",
    "sia molto incoraggiante, noi siamo più interessati a \n",
    "sapere quali test falliscono e quindi nelle prossime \n",
    "esecuzioni mettiamo a `False` il parametro `verbose`."
   ]
  },
  {
   "cell_type": "markdown",
   "metadata": {},
   "source": [
    "### Funzioni"
   ]
  },
  {
   "cell_type": "markdown",
   "metadata": {},
   "source": [
    "Riprendiamo la scrittura della nostra libreria. \n",
    "Inseriamo le quattro funzioni sviluppate precedentemente:\n",
    "\n",
    "* matr_zero(rows, cols):\n",
    "* matr_random(rows, cols, mi, ma):\n",
    "* vect_add(matr1, matr2):\n",
    "* vect_scalar_product(matr1, matr2):\n",
    "\n",
    "Questa volta, come abbiamo fatto per `matr_zero`,\n",
    "aggiungiamo per ognuna una *doc string* che contenga \n",
    "almeno un test."
   ]
  },
  {
   "cell_type": "markdown",
   "metadata": {},
   "source": [
    "Procediamo con la funzione che crea una lista di liste \n",
    "di numei casuali specificando \n",
    "le dimensioni della matrice e il range di numeri.\n",
    "Come sempre scriviamo l'intestazione della funzione, \n",
    "la stringa di documentazione (*docstring*) e il test."
   ]
  },
  {
   "cell_type": "code",
   "execution_count": 4,
   "metadata": {
    "collapsed": false
   },
   "outputs": [
    {
     "name": "stdout",
     "output_type": "stream",
     "text": [
      "**********************************************************************\n",
      "File \"__main__\", line 3, in __main__.matr_random\n",
      "Failed example:\n",
      "    m_0 = matr_random(3, 4)\n",
      "Exception raised:\n",
      "    Traceback (most recent call last):\n",
      "      File \"/usr/lib/python3.4/doctest.py\", line 1324, in __run\n",
      "        compileflags, 1), test.globs)\n",
      "      File \"<doctest __main__.matr_random[0]>\", line 1, in <module>\n",
      "        m_0 = matr_random(3, 4)\n",
      "    TypeError: matr_random() missing 2 required positional arguments: 'mi' and 'ma'\n",
      "**********************************************************************\n",
      "File \"__main__\", line 4, in __main__.matr_random\n",
      "Failed example:\n",
      "    print(m_0)\n",
      "Exception raised:\n",
      "    Traceback (most recent call last):\n",
      "      File \"/usr/lib/python3.4/doctest.py\", line 1324, in __run\n",
      "        compileflags, 1), test.globs)\n",
      "      File \"<doctest __main__.matr_random[1]>\", line 1, in <module>\n",
      "        print(m_0)\n",
      "    NameError: name 'm_0' is not defined\n",
      "**********************************************************************\n",
      "1 items had failures:\n",
      "   2 of   2 in __main__.matr_random\n",
      "***Test Failed*** 2 failures.\n"
     ]
    }
   ],
   "source": [
    "def matr_random(rows, cols, mi, ma):\n",
    "    \"\"\"Return a bidimensional matrix of random numbers.\n",
    ">>> m_0 = matr_random(3, 4)\n",
    ">>> print(m_0)\n",
    "[[3, 6, 4, 9], [1, 5, 8, 6], [3, 7, 0, 9]]\n",
    "    \"\"\"\n",
    "\n",
    "if __name__=='__main__':\n",
    "    import doctest\n",
    "    doctest.testmod(verbose=False)"
   ]
  },
  {
   "cell_type": "markdown",
   "metadata": {},
   "source": [
    "Ovviamente il test fallisce. Osserviamo gli errori che segnala.\n",
    "Il primo è dovuto al fatto che la funzione `matr_random` ha due \n",
    "parametri che abbiamo dimenticato.\n",
    "Il secondo deriva dal fatto che non abbiamo definito la funzione, \n",
    "ma solo la sua docstring.\n",
    "Scrivere il codice della funzione\n",
    "che sarà molto simile a quello di `matr_zero`."
   ]
  },
  {
   "cell_type": "code",
   "execution_count": 5,
   "metadata": {
    "collapsed": false
   },
   "outputs": [
    {
     "name": "stdout",
     "output_type": "stream",
     "text": [
      "**********************************************************************\n",
      "File \"__main__\", line 4, in __main__.matr_random\n",
      "Failed example:\n",
      "    print(m_0)\n",
      "Expected:\n",
      "    [[3, 6, 4, 9], [1, 5, 8, 6], [3, 7, 0, 9]]\n",
      "Got:\n",
      "    [[9, 0, 9, 3], [4, 1, 6, 5], [3, 2, 1, 2]]\n",
      "**********************************************************************\n",
      "1 items had failures:\n",
      "   1 of   2 in __main__.matr_random\n",
      "***Test Failed*** 1 failures.\n"
     ]
    }
   ],
   "source": [
    "def matr_random(rows, cols, mi, ma):\n",
    "    \"\"\"Return a bidimensional matrix of random numbers.\n",
    ">>> m_0 = matr_random(3, 4, 0, 10)\n",
    ">>> print(m_0)\n",
    "[[3, 6, 4, 9], [1, 5, 8, 6], [3, 7, 0, 9]]\n",
    "    \"\"\"\n",
    "    return [[random.randrange(mi, ma) for i in range(cols)] for r in range(rows)]\n",
    "\n",
    "if __name__=='__main__':\n",
    "    import doctest\n",
    "    doctest.testmod(verbose=False)"
   ]
  },
  {
   "cell_type": "markdown",
   "metadata": {},
   "source": [
    "La funzione è corretta, ma il test fallisce perché \n",
    "non riusciamo a prevedere quali numeri si inventerà \n",
    "la funzione `randrange`. \n",
    "Ma possiamo dire a `doctest` di considerare questo fatto\n",
    "usando la direttiva: `+ELLIPSIS` \n",
    "e i tre puntini per i numeri che possono variare."
   ]
  },
  {
   "cell_type": "code",
   "execution_count": 6,
   "metadata": {
    "collapsed": false
   },
   "outputs": [],
   "source": [
    "def matr_random(rows, cols, mi, ma):\n",
    "    \"\"\"Return a bidimensional matrix of random numbers.\n",
    ">>> m_0 = matr_random(3, 4, 0, 10)\n",
    ">>> print(m_0)                      # doctest: +ELLIPSIS\n",
    "[[..., ..., ..., ...], [..., ..., ..., ...], [..., ..., ..., ...]]\n",
    "    \"\"\"\n",
    "    return [[random.randrange(mi, ma) for i in range(cols)] for r in range(rows)]\n",
    "\n",
    "if __name__=='__main__':\n",
    "    import doctest\n",
    "    doctest.testmod(verbose=False)"
   ]
  },
  {
   "cell_type": "markdown",
   "metadata": {},
   "source": [
    "Questa volta il test passa.\n",
    "\n",
    "Scriviamo ora il test per le funzioni `vect_add` e `vect_mul`."
   ]
  },
  {
   "cell_type": "code",
   "execution_count": 7,
   "metadata": {
    "collapsed": false
   },
   "outputs": [
    {
     "name": "stdout",
     "output_type": "stream",
     "text": [
      "**********************************************************************\n",
      "File \"__main__\", line 3, in __main__.vect_add\n",
      "Failed example:\n",
      "    print(vect_add([2, 4, 6], [3, 5, 0]))\n",
      "Expected:\n",
      "    [5, 9, 6]\n",
      "Got:\n",
      "    None\n",
      "**********************************************************************\n",
      "File \"__main__\", line 9, in __main__.vect_mul\n",
      "Failed example:\n",
      "    print(vect_mul([2, 4, 6], [3, 5, 0]))\n",
      "Expected:\n",
      "    26\n",
      "Got:\n",
      "    None\n",
      "**********************************************************************\n",
      "2 items had failures:\n",
      "   1 of   1 in __main__.vect_add\n",
      "   1 of   1 in __main__.vect_mul\n",
      "***Test Failed*** 2 failures.\n"
     ]
    }
   ],
   "source": [
    "def vect_add(v0, v1):\n",
    "    \"\"\"Return vectors sum.\n",
    ">>> print(vect_add([2, 4, 6], [3, 5, 0]))\n",
    "[5, 9, 6]\n",
    "    \"\"\"\n",
    "\n",
    "def vect_mul(v0, v1):\n",
    "    \"\"\"Return vectors scalar product.\n",
    ">>> print(vect_mul([2, 4, 6], [3, 5, 0]))\n",
    "26\n",
    "    \"\"\"\n",
    "if __name__=='__main__':\n",
    "    import doctest\n",
    "    doctest.testmod(verbose=False)"
   ]
  },
  {
   "cell_type": "markdown",
   "metadata": {},
   "source": [
    "Veniamo avvisati che due test non sono passati.\n",
    "\n",
    "**Ottimo!**\n",
    "\n",
    "Andiamo a completare le due funzioni in modo che superino i test."
   ]
  },
  {
   "cell_type": "code",
   "execution_count": 8,
   "metadata": {
    "collapsed": false
   },
   "outputs": [],
   "source": [
    "def vect_add(v0, v1):\n",
    "    \"\"\"Return vectors sum.\n",
    ">>> print(vect_add([2, 4, 6], [3, 5, 0]))\n",
    "[5, 9, 6]\n",
    "    \"\"\"\n",
    "    return [a+b for a, b in zip(v0, v1)]\n",
    "\n",
    "def vect_mul(v0, v1):\n",
    "    \"\"\"Return vectors scalar product.\n",
    ">>> print(vect_mul([2, 4, 6], [3, 5, 0]))\n",
    "26\n",
    "    \"\"\"\n",
    "    return sum([a*b for a, b in zip(v0, v1)])\n",
    "\n",
    "if __name__=='__main__':\n",
    "    import doctest\n",
    "    doctest.testmod(verbose=False)"
   ]
  },
  {
   "cell_type": "markdown",
   "metadata": {},
   "source": [
    "Benissimo, il nostro programma sta prendendo forma \n",
    "ed è già così robusto da superare i test."
   ]
  },
  {
   "cell_type": "markdown",
   "metadata": {},
   "source": [
    "### La classe `Matrix`"
   ]
  },
  {
   "cell_type": "markdown",
   "metadata": {},
   "source": [
    "È ora di realizzare la classe `Matrix`. \n",
    "Aggiungiamo l'intestazione della classe e il suo metodo `__init__`."
   ]
  },
  {
   "cell_type": "code",
   "execution_count": 9,
   "metadata": {
    "collapsed": false
   },
   "outputs": [],
   "source": [
    "class Matrix():\n",
    "    \"\"\"Matrix class.\"\"\"\n",
    "    def __init__(self, matr):\n",
    "        \"\"\"Matrix init.\n",
    ">>> m_0 = Matrix(matr_zero(4, 3))\n",
    ">>> print(m_0.rows, m_0.cols)\n",
    "4 3\n",
    ">>> print(m_0.matr)\n",
    "[[0, 0, 0], [0, 0, 0], [0, 0, 0], [0, 0, 0]]\n",
    "        \"\"\"\n",
    "        self.matr = matr           # Attributo che contiene la matrice.\n",
    "        self.rows = len(matr)      # numero di righe\n",
    "        self.cols = len(matr[0])   # numero di colonne\n",
    "        \n",
    "if __name__ == '__main__':\n",
    "    import doctest\n",
    "    doctest.testmod(verbose=False)"
   ]
  },
  {
   "cell_type": "markdown",
   "metadata": {},
   "source": [
    "Altro metodo utile da scrivere prima di passare alle operazioni\n",
    "con le matrici è il metodo che viene chiamato quando si vuole \n",
    "tradurre la matrice in una stringa, magari per stamparla.\n",
    "Il metodo ha un nome particolare `__str__`."
   ]
  },
  {
   "cell_type": "code",
   "execution_count": 10,
   "metadata": {
    "collapsed": false
   },
   "outputs": [
    {
     "name": "stdout",
     "output_type": "stream",
     "text": [
      "**********************************************************************\n",
      "File \"__main__\", line 18, in __main__.Matrix.__str__\n",
      "Failed example:\n",
      "    print(m_0)\n",
      "Exception raised:\n",
      "    Traceback (most recent call last):\n",
      "      File \"/usr/lib/python3.4/doctest.py\", line 1324, in __run\n",
      "        compileflags, 1), test.globs)\n",
      "      File \"<doctest __main__.Matrix.__str__[1]>\", line 1, in <module>\n",
      "        print(m_0)\n",
      "    TypeError: __str__ returned non-string (type NoneType)\n",
      "**********************************************************************\n",
      "1 items had failures:\n",
      "   1 of   2 in __main__.Matrix.__str__\n",
      "***Test Failed*** 1 failures.\n"
     ]
    }
   ],
   "source": [
    "class Matrix():\n",
    "    \"\"\"Matrix class.\"\"\"\n",
    "    def __init__(self, matr):\n",
    "        \"\"\"Matrix init.\n",
    ">>> m_0 = Matrix(matr_zero(4, 3))\n",
    ">>> print(m_0.rows, m_0.cols)\n",
    "4 3\n",
    ">>> print(m_0.matr)\n",
    "[[0, 0, 0], [0, 0, 0], [0, 0, 0], [0, 0, 0]]\n",
    "        \"\"\"\n",
    "        self.matr = matr           # Attributo che contiene la matrice.\n",
    "        self.rows = len(matr)      # numero di righe\n",
    "        self.cols = len(matr[0])   # numero di colonne\n",
    "        \n",
    "    def __str__(self):\n",
    "        \"\"\"Matrix to string.\n",
    ">>> m_0 = Matrix(matr_zero(2, 3))\n",
    ">>> print(m_0)\n",
    "0  0  0\n",
    "0  0  0\n",
    "        \"\"\"\n",
    "\n",
    "if __name__=='__main__':\n",
    "    import doctest\n",
    "    doctest.testmod(verbose=False)"
   ]
  },
  {
   "cell_type": "markdown",
   "metadata": {},
   "source": [
    "Giusto, abbiamo detto a Python cose deve produrre `__str__`,\n",
    "ora dobbiamo dire come ottenerlo.\n",
    "Vogliamo realizzare una stringa concatenando gli elementi contenuti in ogni riga \n",
    "separandoli con un tabulatore e \n",
    "concatenare le righe separandole con un acapo."
   ]
  },
  {
   "cell_type": "code",
   "execution_count": 11,
   "metadata": {
    "collapsed": false
   },
   "outputs": [
    {
     "name": "stdout",
     "output_type": "stream",
     "text": [
      "**********************************************************************\n",
      "File \"__main__\", line 18, in __main__.Matrix.__str__\n",
      "Failed example:\n",
      "    print(m_0)\n",
      "Expected:\n",
      "    0  0  0\n",
      "    0  0  0\n",
      "Got:\n",
      "    0\t0\t0\n",
      "    0\t0\t0\n",
      "**********************************************************************\n",
      "1 items had failures:\n",
      "   1 of   2 in __main__.Matrix.__str__\n",
      "***Test Failed*** 1 failures.\n"
     ]
    }
   ],
   "source": [
    "class Matrix():\n",
    "    \"\"\"Matrix class.\"\"\"\n",
    "    def __init__(self, matr):\n",
    "        \"\"\"Matrix init.\n",
    ">>> m_0 = Matrix(matr_zero(4, 3))\n",
    ">>> print(m_0.rows, m_0.cols)\n",
    "4 3\n",
    ">>> print(m_0.matr)\n",
    "[[0, 0, 0], [0, 0, 0], [0, 0, 0], [0, 0, 0]]\n",
    "        \"\"\"\n",
    "        self.matr = matr           # Attributo che contiene la matrice.\n",
    "        self.rows = len(matr)      # numero di righe\n",
    "        self.cols = len(matr[0])   # numero di colonne\n",
    "        \n",
    "    def __str__(self):\n",
    "        \"\"\"Matrix to string.\n",
    ">>> m_0 = Matrix(matr_zero(2, 3))\n",
    ">>> print(m_0)\n",
    "0  0  0\n",
    "0  0  0\n",
    "        \"\"\"\n",
    "        return \"\\n\".join([\"\\t\".join(map(str, r)) for r in self.matr])\n",
    "\n",
    "if __name__=='__main__':\n",
    "    import doctest\n",
    "    doctest.testmod(verbose=False)"
   ]
  },
  {
   "cell_type": "markdown",
   "metadata": {},
   "source": [
    "Accidenti, questa volta il test fallisce \n",
    "perché otteniamo un diverso numero di spazi. \n",
    "Ma gli spazi ci interessano relativamente, \n",
    "Possiamo farglielo sapere a `doctest` usando una direttiva."
   ]
  },
  {
   "cell_type": "code",
   "execution_count": 12,
   "metadata": {
    "collapsed": false
   },
   "outputs": [],
   "source": [
    "class Matrix():\n",
    "    \"\"\"Matrix class.\"\"\"\n",
    "    def __init__(self, matr):\n",
    "        \"\"\"Matrix init.\n",
    ">>> m_0 = Matrix(matr_zero(4, 3))\n",
    ">>> print(m_0.rows, m_0.cols)\n",
    "4 3\n",
    ">>> print(m_0.matr)\n",
    "[[0, 0, 0], [0, 0, 0], [0, 0, 0], [0, 0, 0]]\n",
    "        \"\"\"\n",
    "        self.matr = matr           # Attributo che contiene la matrice.\n",
    "        self.rows = len(matr)      # numero di righe\n",
    "        self.cols = len(matr[0])   # numero di colonne\n",
    "        \n",
    "    def __str__(self):\n",
    "        \"\"\"Matrix to string.\n",
    ">>> m_0 = Matrix(matr_zero(2, 3))\n",
    ">>> print(m_0)                     # doctest: +NORMALIZE_WHITESPACE\n",
    "0  0  0\n",
    "0  0  0\n",
    "        \"\"\"\n",
    "        return \"\\n\".join([\"\\t\".join(map(str, r)) for r in self.matr])\n",
    "\n",
    "if __name__=='__main__':\n",
    "    import doctest\n",
    "    doctest.testmod(verbose=False)"
   ]
  },
  {
   "cell_type": "markdown",
   "metadata": {},
   "source": [
    "Due metodi utili nelle matrici sono quelli che ci permettono \n",
    "di estrarre una riga o una colonna dati i corrispondenti indici,\n",
    "li chiameremo `row` e `col`."
   ]
  },
  {
   "cell_type": "code",
   "execution_count": 13,
   "metadata": {
    "collapsed": false
   },
   "outputs": [
    {
     "name": "stdout",
     "output_type": "stream",
     "text": [
      "**********************************************************************\n",
      "File \"__main__\", line 34, in __main__.Matrix.col\n",
      "Failed example:\n",
      "    print(m_0.row(2))\n",
      "Expected:\n",
      "    [2, 9, 1, 4]\n",
      "Got:\n",
      "    None\n",
      "**********************************************************************\n",
      "File \"__main__\", line 27, in __main__.Matrix.row\n",
      "Failed example:\n",
      "    print(m_0.row(2))\n",
      "Expected:\n",
      "    [2, 7, 1]\n",
      "Got:\n",
      "    None\n",
      "**********************************************************************\n",
      "2 items had failures:\n",
      "   1 of   2 in __main__.Matrix.col\n",
      "   1 of   2 in __main__.Matrix.row\n",
      "***Test Failed*** 2 failures.\n"
     ]
    }
   ],
   "source": [
    "class Matrix():\n",
    "    \"\"\"Matrix class.\"\"\"\n",
    "    def __init__(self, matr):\n",
    "        \"\"\"Matrix init.\n",
    ">>> m_0 = Matrix(matr_zero(4, 3))\n",
    ">>> print(m_0.rows, m_0.cols)\n",
    "4 3\n",
    ">>> print(m_0.matr)\n",
    "[[0, 0, 0], [0, 0, 0], [0, 0, 0], [0, 0, 0]]\n",
    "        \"\"\"\n",
    "        self.matr = matr           # Attributo che contiene la matrice.\n",
    "        self.rows = len(matr)      # numero di righe\n",
    "        self.cols = len(matr[0])   # numero di colonne\n",
    "        \n",
    "    def __str__(self):\n",
    "        \"\"\"Matrix to string.\n",
    ">>> m_0 = Matrix(matr_zero(2, 3))\n",
    ">>> print(m_0)                     # doctest: +NORMALIZE_WHITESPACE\n",
    "0  0  0\n",
    "0  0  0\n",
    "        \"\"\"\n",
    "        return \"\\n\".join([\"\\t\".join(map(str, r)) for r in self.matr])\n",
    "\n",
    "    def row(self, index):\n",
    "        \"\"\"Return a Matrix row.\n",
    ">>> m_0 = Matrix([[0, 1, 2], [1, 5, 9], [2, 7, 1], [3, 0, 4]])\n",
    ">>> print(m_0.row(2))\n",
    "[2, 7, 1]\n",
    "        \"\"\"\n",
    "\n",
    "    def col(self, index):\n",
    "        \"\"\"Return a Matrix col.\n",
    ">>> m_0 = Matrix([[0, 1, 2], [1, 5, 9], [2, 7, 1], [3, 0, 4]])\n",
    ">>> print(m_0.row(2))\n",
    "[2, 9, 1, 4]\n",
    "        \"\"\"\n",
    "        \n",
    "if __name__=='__main__':\n",
    "    import doctest\n",
    "    doctest.testmod(verbose=False)"
   ]
  },
  {
   "cell_type": "markdown",
   "metadata": {},
   "source": [
    "Bene, descritto cosa vogliamo ottenere, passiamo a scrivere il codice.\n",
    "`row` sarà semplicissimo: restituisci l'*iesimo* elemento della matrice.\n",
    "`col` risulterà più complicato: deve costruire una lista che ha come \n",
    "elementi gli *iesimi* elementi di ogni riga."
   ]
  },
  {
   "cell_type": "code",
   "execution_count": 14,
   "metadata": {
    "collapsed": false
   },
   "outputs": [],
   "source": [
    "class Matrix():\n",
    "    \"\"\"Matrix class.\"\"\"\n",
    "    def __init__(self, matr):\n",
    "        \"\"\"Matrix init.\n",
    ">>> m_0 = Matrix(matr_zero(4, 3))\n",
    ">>> print(m_0.rows, m_0.cols)\n",
    "4 3\n",
    ">>> print(m_0.matr)\n",
    "[[0, 0, 0], [0, 0, 0], [0, 0, 0], [0, 0, 0]]\n",
    "        \"\"\"\n",
    "        self.matr = matr           # Attributo che contiene la matrice.\n",
    "        self.rows = len(matr)      # numero di righe\n",
    "        self.cols = len(matr[0])   # numero di colonne\n",
    "        \n",
    "    def __str__(self):\n",
    "        \"\"\"Matrix to string.\n",
    ">>> m_0 = Matrix(matr_zero(2, 3))\n",
    ">>> print(m_0)                     # doctest: +NORMALIZE_WHITESPACE\n",
    "0  0  0\n",
    "0  0  0\n",
    "        \"\"\"\n",
    "        return \"\\n\".join([\"\\t\".join(map(str, r)) for r in self.matr])\n",
    "\n",
    "    def row(self, index):\n",
    "        \"\"\"Return a Matrix row.\n",
    ">>> m_0 = Matrix([[0, 1, 2], [1, 5, 9], [2, 7, 1], [3, 0, 4]])\n",
    ">>> print(m_0.row(2))\n",
    "[2, 7, 1]\n",
    "        \"\"\"\n",
    "        return self.matr[index]\n",
    "\n",
    "    def col(self, index):\n",
    "        \"\"\"Return a Matrix col.\n",
    ">>> m_0 = Matrix([[0, 1, 2], [1, 5, 9], [2, 7, 1], [3, 0, 4]])\n",
    ">>> print(m_0.col(2))\n",
    "[2, 9, 1, 4]\n",
    "        \"\"\"\n",
    "        return [row[index] for row in self.matr]\n",
    "        \n",
    "if __name__=='__main__':\n",
    "    import doctest\n",
    "    doctest.testmod(verbose=False)"
   ]
  },
  {
   "cell_type": "markdown",
   "metadata": {},
   "source": [
    "Ora abbiamo tutti gli elementi per completare la nostra libreria. \n",
    "Im metodo da seguire prevede alcuni sempli regole:\n",
    "\n",
    "* aggiungere una funzione alla volta;\n",
    "* scrivere la `docstring` con il test della funzione;\n",
    "* scrivere il codice della funzione correggendolo finché\n",
    "il test non passa.\n",
    "\n",
    "Seguendo queste indicazionicompletate la sguente libreria."
   ]
  },
  {
   "cell_type": "code",
   "execution_count": 45,
   "metadata": {
    "collapsed": false
   },
   "outputs": [],
   "source": [
    "# 30 marzo 2015\n",
    "# Daniele\n",
    "# Matrici\n",
    "# GPL 3\n",
    "\n",
    "\"\"\"\n",
    "class Matrix with operations.\n",
    "\"\"\"\n",
    "\n",
    "from __future__ import division, print_function   # for compatibility with 2.x\n",
    "import random\n",
    "\n",
    "def matr_zero(rows, cols):\n",
    "    \"\"\"Return a bidimensional matrix of zeros.\n",
    ">>> m_0 = matr_zero(3, 4)\n",
    ">>> print(m_0)\n",
    "[[0, 0, 0, 0], [0, 0, 0, 0], [0, 0, 0, 0]]\n",
    "    \"\"\"\n",
    "    return [[0 for i in range(cols)] for r in range(rows)]\n",
    "\n",
    "def matr_random(rows, cols, mi, ma):\n",
    "    \"\"\"Return a bidimensional matrix of random numbers.\n",
    ">>> m_0 = matr_random(3, 4, 0, 10)\n",
    ">>> print(m_0)                      # doctest: +ELLIPSIS\n",
    "[[..., ..., ..., ...], [..., ..., ..., ...], [..., ..., ..., ...]]\n",
    "    \"\"\"\n",
    "    return [[random.randrange(mi, ma) for i in range(cols)] for r in range(rows)]\n",
    "\n",
    "def vect_add(v0, v1):\n",
    "    \"\"\"Return vectors sum.\n",
    ">>> print(vect_add([2, 4, 6], [3, 5, 0]))\n",
    "[5, 9, 6]\n",
    "    \"\"\"\n",
    "    return [a+b for a, b in zip(v0, v1)]\n",
    "\n",
    "def vect_mul(v0, v1):\n",
    "    \"\"\"Return vectors scalar product.\n",
    ">>> print(vect_mul([2, 4, 6], [3, 5, 0]))\n",
    "26\n",
    "    \"\"\"\n",
    "    return sum([a*b for a, b in zip(v0, v1)])\n",
    "\n",
    "class Matrix():\n",
    "    \"\"\"Matrix class.\"\"\"\n",
    "    def __init__(self, matr):\n",
    "        \"\"\"Matrix init.\n",
    ">>> m_0 = Matrix(matr_zero(4, 3))\n",
    ">>> print(m_0.rows, m_0.cols)\n",
    "4 3\n",
    ">>> print(m_0.matr)\n",
    "[[0, 0, 0], [0, 0, 0], [0, 0, 0], [0, 0, 0]]\n",
    "        \"\"\"\n",
    "        self.matr = matr           # Attributo che contiene la matrice.\n",
    "        self.rows = len(matr)      # numero di righe\n",
    "        self.cols = len(matr[0])   # numero di colonne\n",
    "        \n",
    "    def __str__(self):\n",
    "        \"\"\"Matrix to string.\n",
    ">>> m_0 = Matrix(matr_zero(2, 3))\n",
    ">>> print(m_0)                     # doctest: +NORMALIZE_WHITESPACE\n",
    "0  0  0\n",
    "0  0  0\n",
    "        \"\"\"\n",
    "        return \"\\n\".join([\"\\t\".join(map(str, r)) for r in self.matr])\n",
    "\n",
    "    def row(self, index):\n",
    "        \"\"\"Return a Matrix row.\n",
    ">>> m_0 = Matrix([[0, 1, 2], [1, 5, 9], [2, 7, 1], [3, 0, 4]])\n",
    ">>> print(m_0.row(2))\n",
    "[2, 7, 1]\n",
    "        \"\"\"\n",
    "        return self.matr[index]\n",
    "\n",
    "    def col(self, index):\n",
    "        \"\"\"Return a Matrix col.\n",
    ">>> m_0 = Matrix([[0, 1, 2], [1, 5, 9], [2, 7, 1], [3, 0, 4]])\n",
    ">>> print(m_0.col(2))\n",
    "[2, 9, 1, 4]\n",
    "        \"\"\"\n",
    "        return [row[index] for row in self.matr]\n",
    "\n",
    "    def transpose(self):\n",
    "        \"\"\"Return transposed Matrix.\n",
    ">>> \n",
    "        \"\"\"\n",
    "\n",
    "    def __add__(self, other):\n",
    "        return [[i*r for i in range(self.matr)] for r in range(self.matr)]\n",
    "      \n",
    "    def __neg__(self):\n",
    "        \"\"\"Return -Matrix.\n",
    ">>> \n",
    "        \"\"\"\n",
    "      \n",
    "    def __sub__(self, other):\n",
    "        \"\"\"Return difference for two matrix\n",
    ">>> \n",
    "        \"\"\"\n",
    "    \n",
    "    def __mul__(self, other):\n",
    "        \"\"\"Return Matrix product.\n",
    ">>> \n",
    "        \"\"\"\n",
    "\n",
    "    __rmul__ = __mul__\n",
    "\n",
    "    def determinant(self):\n",
    "        \"\"\"Return inverse of Matrix.\n",
    ">>> \n",
    "        \"\"\"\n",
    "\n",
    "    def inverse(self):\n",
    "        \"\"\"Return inverse of Matrix.\n",
    ">>> \n",
    "        \"\"\"\n",
    "\n",
    "    def __div__(self, other):\n",
    "        \"\"\"Return Matrix quotient.\n",
    ">>> \n",
    "        \"\"\"\n",
    "\n",
    "if __name__=='__main__':\n",
    "    import doctest\n",
    "    doctest.testmod(verbose=False)\n",
    "    "
   ]
  },
  {
   "cell_type": "code",
   "execution_count": 43,
   "metadata": {
    "collapsed": false
   },
   "outputs": [],
   "source": [
    "m = Matrix([[0, 3, 2], [1, 5, 9], [2, 7, 1], [3, 0, 4]])"
   ]
  },
  {
   "cell_type": "code",
   "execution_count": 30,
   "metadata": {
    "collapsed": false
   },
   "outputs": [
    {
     "name": "stdout",
     "output_type": "stream",
     "text": [
      "0\t3\t2\n",
      "1\t5\t9\n",
      "2\t7\t1\n",
      "3\t0\t4\n"
     ]
    }
   ],
   "source": [
    "print(m)"
   ]
  },
  {
   "cell_type": "code",
   "execution_count": 46,
   "metadata": {
    "collapsed": false
   },
   "outputs": [
    {
     "ename": "NameError",
     "evalue": "global name 'matr' is not defined",
     "output_type": "error",
     "traceback": [
      "\u001b[1;31m---------------------------------------------------------------------------\u001b[0m",
      "\u001b[1;31mNameError\u001b[0m                                 Traceback (most recent call last)",
      "\u001b[1;32m<ipython-input-46-ab854913680f>\u001b[0m in \u001b[0;36m<module>\u001b[1;34m()\u001b[0m\n\u001b[1;32m----> 1\u001b[1;33m \u001b[0mA\u001b[0m \u001b[1;33m=\u001b[0m \u001b[0mm\u001b[0m\u001b[1;33m+\u001b[0m\u001b[0mm\u001b[0m\u001b[1;33m\u001b[0m\u001b[0m\n\u001b[0m",
      "\u001b[1;32m<ipython-input-42-c8edf97f3407>\u001b[0m in \u001b[0;36m__add__\u001b[1;34m(self, other)\u001b[0m\n\u001b[0;32m     86\u001b[0m \u001b[1;33m\u001b[0m\u001b[0m\n\u001b[0;32m     87\u001b[0m     \u001b[1;32mdef\u001b[0m \u001b[0m__add__\u001b[0m\u001b[1;33m(\u001b[0m\u001b[0mself\u001b[0m\u001b[1;33m,\u001b[0m \u001b[0mother\u001b[0m\u001b[1;33m)\u001b[0m\u001b[1;33m:\u001b[0m\u001b[1;33m\u001b[0m\u001b[0m\n\u001b[1;32m---> 88\u001b[1;33m         \u001b[1;32mreturn\u001b[0m \u001b[1;33m[\u001b[0m\u001b[1;33m[\u001b[0m\u001b[0mi\u001b[0m\u001b[1;33m*\u001b[0m\u001b[0mr\u001b[0m \u001b[1;32mfor\u001b[0m \u001b[0mi\u001b[0m \u001b[1;32min\u001b[0m \u001b[0mrange\u001b[0m\u001b[1;33m(\u001b[0m\u001b[0mself\u001b[0m\u001b[1;33m.\u001b[0m\u001b[0mmatr\u001b[0m\u001b[1;33m)\u001b[0m\u001b[1;33m]\u001b[0m \u001b[1;32mfor\u001b[0m \u001b[0mr\u001b[0m \u001b[1;32min\u001b[0m \u001b[0mrange\u001b[0m\u001b[1;33m(\u001b[0m\u001b[0mself\u001b[0m\u001b[1;33m-\u001b[0m\u001b[0mmatr\u001b[0m\u001b[1;33m)\u001b[0m\u001b[1;33m]\u001b[0m\u001b[1;33m\u001b[0m\u001b[0m\n\u001b[0m\u001b[0;32m     89\u001b[0m \u001b[1;33m\u001b[0m\u001b[0m\n\u001b[0;32m     90\u001b[0m     \u001b[1;32mdef\u001b[0m \u001b[0m__neg__\u001b[0m\u001b[1;33m(\u001b[0m\u001b[0mself\u001b[0m\u001b[1;33m)\u001b[0m\u001b[1;33m:\u001b[0m\u001b[1;33m\u001b[0m\u001b[0m\n",
      "\u001b[1;31mNameError\u001b[0m: global name 'matr' is not defined"
     ]
    }
   ],
   "source": [
    "A = m+m"
   ]
  },
  {
   "cell_type": "code",
   "execution_count": 36,
   "metadata": {
    "collapsed": false
   },
   "outputs": [
    {
     "name": "stdout",
     "output_type": "stream",
     "text": [
      "None\n"
     ]
    }
   ],
   "source": [
    "print(A)"
   ]
  },
  {
   "cell_type": "code",
   "execution_count": null,
   "metadata": {
    "collapsed": true
   },
   "outputs": [],
   "source": []
  }
 ],
 "metadata": {
  "kernelspec": {
   "display_name": "Python 2",
   "language": "python",
   "name": "python2"
  },
  "language_info": {
   "codemirror_mode": {
    "name": "ipython",
    "version": 2
   },
   "file_extension": ".py",
   "mimetype": "text/x-python",
   "name": "python",
   "nbconvert_exporter": "python",
   "pygments_lexer": "ipython2",
   "version": "2.7.6"
  }
 },
 "nbformat": 4,
 "nbformat_minor": 0
}
